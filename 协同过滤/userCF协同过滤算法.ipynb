{
  "nbformat": 4,
  "nbformat_minor": 0,
  "metadata": {
    "colab": {
      "name": "userCF协同过滤算法.ipynb",
      "provenance": [],
      "collapsed_sections": []
    },
    "kernelspec": {
      "name": "python3",
      "display_name": "Python 3"
    }
  },
  "cells": [
    {
      "cell_type": "code",
      "metadata": {
        "id": "PGcYiLQfvxu8"
      },
      "source": [
        "# 手动实现协同过滤算法\n",
        "import numpy as np\n",
        "import matplotlib.pyplot as plt\n",
        "import math"
      ],
      "execution_count": null,
      "outputs": []
    },
    {
      "cell_type": "code",
      "metadata": {
        "id": "aITOB-knwGFx"
      },
      "source": [
        "# @date 2020-11-26\n",
        "# user-item matrix\n",
        "users = ['小明','小花','小美','小张','小李']\n",
        "movies = ['电影1','电影2','电影3','电影4','电影5','电影6','电影7']\n",
        "\n",
        "# 模拟的user-item矩阵\n",
        "user_item_matrix = np.array([\n",
        "  [3,1,4,4,1,0,0],\n",
        "  [0,5,1,0,0,4,0],\n",
        "  [1,0,5,4,3,5,2],\n",
        "  [3,1,4,3,5,0,0],\n",
        "  [5,3,0,1,0,5,5]\n",
        "])"
      ],
      "execution_count": null,
      "outputs": []
    },
    {
      "cell_type": "code",
      "metadata": {
        "colab": {
          "base_uri": "https://localhost:8080/"
        },
        "id": "I84tylf_3939",
        "outputId": "4bce5bc0-2cd0-4bb3-90ed-8f0eeba334a5"
      },
      "source": [
        "user_item_matrix"
      ],
      "execution_count": null,
      "outputs": [
        {
          "output_type": "execute_result",
          "data": {
            "text/plain": [
              "array([[3, 1, 4, 4, 1, 0, 0],\n",
              "       [0, 5, 1, 0, 0, 4, 0],\n",
              "       [1, 0, 5, 4, 3, 5, 2],\n",
              "       [3, 1, 4, 3, 5, 0, 0],\n",
              "       [5, 3, 0, 1, 0, 5, 5]])"
            ]
          },
          "metadata": {
            "tags": []
          },
          "execution_count": 36
        }
      ]
    },
    {
      "cell_type": "markdown",
      "metadata": {
        "id": "ox232f5tnMvp"
      },
      "source": [
        "https://blog.csdn.net/fycghy0803/article/details/79880452"
      ]
    },
    {
      "cell_type": "code",
      "metadata": {
        "id": "9BO_fsm53_Ck"
      },
      "source": [
        "\n",
        "# 定义各类常见的相似度\n",
        "\n",
        "# 定义余弦相似度\n",
        "def cosine_index(x,y):\n",
        "  return np.sum(x * y)/(math.sqrt(np.sum(x**2)) * math.sqrt(np.sum(y**2)))\n",
        "\n",
        "# 欧式距离相似度\n",
        "def euclidean_index(x,y):\n",
        "  return math.sqrt(np.sum((x-y)**2))\n",
        "\n",
        "# 杰卡德相似度\n",
        "def jaccard_index(x,y):\n",
        "  \n",
        "  pass\n",
        "\n",
        "\n"
      ],
      "execution_count": null,
      "outputs": []
    },
    {
      "cell_type": "code",
      "metadata": {
        "colab": {
          "base_uri": "https://localhost:8080/"
        },
        "id": "uEurC7iAoK73",
        "outputId": "626cf63d-d97a-4407-988f-c569114751d6"
      },
      "source": [
        "cosine_index(user_item_matrix[0],user_item_matrix[2]) #测试余弦相似度"
      ],
      "execution_count": null,
      "outputs": [
        {
          "output_type": "execute_result",
          "data": {
            "text/plain": [
              "0.7160940564439972"
            ]
          },
          "metadata": {
            "tags": []
          },
          "execution_count": 38
        }
      ]
    },
    {
      "cell_type": "code",
      "metadata": {
        "colab": {
          "base_uri": "https://localhost:8080/"
        },
        "id": "SP8ZMRpfqwQ4",
        "outputId": "66006c91-9aad-41dc-968f-c62f8aecb77f"
      },
      "source": [
        "euclidean_index(user_item_matrix[0],user_item_matrix[2]) # 测试欧式距离相似度"
      ],
      "execution_count": null,
      "outputs": [
        {
          "output_type": "execute_result",
          "data": {
            "text/plain": [
              "6.244997998398398"
            ]
          },
          "metadata": {
            "tags": []
          },
          "execution_count": 39
        }
      ]
    },
    {
      "cell_type": "code",
      "metadata": {
        "id": "VZ6Im1f2oeH_"
      },
      "source": [
        "# 计算相似度矩阵\n",
        "# 计算出的矩阵是一个对称矩阵\n",
        "similary_matrix = np.zeros(shape=(len(user_item_matrix),len(user_item_matrix)))\n",
        "for i in range(len(user_item_matrix)):\n",
        "  for j in range(i,len(user_item_matrix)):\n",
        "    if(i!=j):\n",
        "      # 用欧式距离计算相似度\n",
        "      # val = euclidean_index(user_item_matrix[i],user_item_matrix[j])\n",
        "      # 用cosine计算相似度\n",
        "      val = cosine_index(user_item_matrix[i],user_item_matrix[j])\n",
        "      # 由于是对称矩阵，只计算其中一半就可以了，另外一半填充就行\n",
        "      similary_matrix[i][j] = val\n",
        "      similary_matrix[j][i] = val"
      ],
      "execution_count": null,
      "outputs": []
    },
    {
      "cell_type": "code",
      "metadata": {
        "colab": {
          "base_uri": "https://localhost:8080/"
        },
        "id": "KF9QK6GeuC7n",
        "outputId": "5314bac8-49e4-4a55-8f27-6cec8e739ee8"
      },
      "source": [
        "similary_matrix # 获得相似矩阵 "
      ],
      "execution_count": null,
      "outputs": [
        {
          "output_type": "execute_result",
          "data": {
            "text/plain": [
              "array([[0.        , 0.21177936, 0.71609406, 0.84656167, 0.36389743],\n",
              "       [0.21177936, 0.        , 0.43129097, 0.17928429, 0.58577919],\n",
              "       [0.71609406, 0.43129097, 0.        , 0.72168784, 0.53357838],\n",
              "       [0.84656167, 0.17928429, 0.72168784, 0.        , 0.29405882],\n",
              "       [0.36389743, 0.58577919, 0.53357838, 0.29405882, 0.        ]])"
            ]
          },
          "metadata": {
            "tags": []
          },
          "execution_count": 41
        }
      ]
    },
    {
      "cell_type": "code",
      "metadata": {
        "colab": {
          "base_uri": "https://localhost:8080/"
        },
        "id": "a-Fe3rTeuQoa",
        "outputId": "71c9de55-6f17-47e2-8a14-8a615a948b54"
      },
      "source": [
        "# 然后可以根据你输入的用户，进行动态的计算当前与你相似度最高的用户是谁\n",
        "# 用户1 和 谁的相似度最高\n",
        "# 可以看出用户四的的相似度是最高的\n",
        "np.argmax(similary_matrix[0])"
      ],
      "execution_count": null,
      "outputs": [
        {
          "output_type": "execute_result",
          "data": {
            "text/plain": [
              "3"
            ]
          },
          "metadata": {
            "tags": []
          },
          "execution_count": 42
        }
      ]
    },
    {
      "cell_type": "code",
      "metadata": {
        "colab": {
          "base_uri": "https://localhost:8080/"
        },
        "id": "HKN4b1RJzt9-",
        "outputId": "0a7ec858-8ae5-4410-f410-65bbe003aa32"
      },
      "source": [
        "np.argsort(-similary_matrix[0]) #从大到小排序相似度最高的用户"
      ],
      "execution_count": null,
      "outputs": [
        {
          "output_type": "execute_result",
          "data": {
            "text/plain": [
              "array([3, 2, 4, 1, 0])"
            ]
          },
          "metadata": {
            "tags": []
          },
          "execution_count": 43
        }
      ]
    },
    {
      "cell_type": "code",
      "metadata": {
        "id": "a4gqOLRF1stp"
      },
      "source": [
        "# user_items 代表用户-物品矩阵 user_index 代表需要给哪个user推荐，K代表临近的用户 C表示最大的推荐的数量\n",
        "def recommend(user_item,user_index,K = 3,C = 10):\n",
        "  neibor_user = np.argsort(-similary_matrix[user_index])[0:K]\n",
        "  items = set()\n",
        "  for i in range(len(neibor_user)):\n",
        "    if(len(items) >= C):\n",
        "        break\n",
        "    for j in range(len(user_item[0])):\n",
        "      if(len(items) >= C):\n",
        "        break\n",
        "      if user_item[user_index][j] == 0 and user_item[i][j]!=0:\n",
        "        items.add(j)\n",
        "\n",
        "  return items"
      ],
      "execution_count": null,
      "outputs": []
    },
    {
      "cell_type": "code",
      "metadata": {
        "id": "FwyjK5yb57rT"
      },
      "source": [
        "# 用户展示显示出效果\n",
        "def desp(users,movies,user_index,movies_list):\n",
        "  print(\"给用户（%s）的推荐电影分别是：\"%(users[user_index]))\n",
        "  result = \"\"\n",
        "  for i in movies_list:\n",
        "    result = result + movies[i]\n",
        "    result = result + \" \"\n",
        "  print(result)"
      ],
      "execution_count": null,
      "outputs": []
    },
    {
      "cell_type": "code",
      "metadata": {
        "colab": {
          "base_uri": "https://localhost:8080/"
        },
        "id": "f5T1X1ppvpmq",
        "outputId": "3ad581bb-d2d8-416e-852f-39e92e163d78"
      },
      "source": [
        "# 查找出用户1和用户3中，用户1没有的，但是用户三有的物品从而推荐给用户\n",
        "user_item_matrix[0]-user_item_matrix[3]"
      ],
      "execution_count": null,
      "outputs": [
        {
          "output_type": "execute_result",
          "data": {
            "text/plain": [
              "array([ 0,  0,  0,  1, -4,  0,  0])"
            ]
          },
          "metadata": {
            "tags": []
          },
          "execution_count": 46
        }
      ]
    },
    {
      "cell_type": "code",
      "metadata": {
        "colab": {
          "base_uri": "https://localhost:8080/"
        },
        "id": "QfFAQXwmwi39",
        "outputId": "b206f974-e0ef-4876-8d1c-b31464c2d1c6"
      },
      "source": [
        "recommend_list = recommend(user_item_matrix,3,C=10)\n",
        "print(recommend_list)\n",
        "desp(users,movies,3,recommend_list)"
      ],
      "execution_count": null,
      "outputs": [
        {
          "output_type": "stream",
          "text": [
            "{5, 6}\n",
            "给用户（小张）的推荐电影分别是：\n",
            "电影6 电影7 \n"
          ],
          "name": "stdout"
        }
      ]
    },
    {
      "cell_type": "code",
      "metadata": {
        "id": "mB155Tna7faN"
      },
      "source": [
        ""
      ],
      "execution_count": null,
      "outputs": []
    },
    {
      "cell_type": "code",
      "metadata": {
        "id": "jaDtHGnv4xA4"
      },
      "source": [
        ""
      ],
      "execution_count": null,
      "outputs": []
    }
  ]
}