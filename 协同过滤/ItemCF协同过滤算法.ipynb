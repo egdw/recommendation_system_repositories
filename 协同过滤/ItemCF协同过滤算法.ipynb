{
  "nbformat": 4,
  "nbformat_minor": 0,
  "metadata": {
    "colab": {
      "name": "ItemCF协同过滤算法.ipynb",
      "provenance": [],
      "collapsed_sections": [],
      "toc_visible": true
    },
    "kernelspec": {
      "name": "python3",
      "display_name": "Python 3"
    }
  },
  "cells": [
    {
      "cell_type": "code",
      "metadata": {
        "id": "PGcYiLQfvxu8"
      },
      "source": [
        "# 手动实现协同过滤算法\n",
        "import numpy as np\n",
        "import matplotlib.pyplot as plt\n",
        "import math"
      ],
      "execution_count": null,
      "outputs": []
    },
    {
      "cell_type": "code",
      "metadata": {
        "id": "aITOB-knwGFx"
      },
      "source": [
        "# @date 2020-11-26\n",
        "# item-item matrix\n",
        "# item和user的区别主要是，item是一列和一列进行相比，而user是一行一行进行相比的。\n",
        "users = ['小明','小花','小美','小张','小李','小方']\n",
        "movies = ['电影1','电影2','电影3','电影4','电影5','电影6','电影7']\n",
        "\n",
        "# 模拟的user-item矩阵\n",
        "# user_item_matrix = np.array([\n",
        "#   [3,1,4,4,1,0,0],\n",
        "#   [0,5,1,0,0,4,0],\n",
        "#   [1,0,5,4,3,5,2],\n",
        "#   [3,1,4,3,5,0,0],\n",
        "#   [5,3,0,1,0,5,5]\n",
        "# ])\n",
        "user_item_matrix = np.array([\n",
        "  [4,3,0,0,5,0],\n",
        "  [5,0,4,0,4,0],\n",
        "  [4,0,5,3,4,0],\n",
        "  [0,3,0,0,0,5],\n",
        "  [0,4,0,0,0,4],\n",
        "  [0,0,2,4,0,5]\n",
        "])"
      ],
      "execution_count": null,
      "outputs": []
    },
    {
      "cell_type": "code",
      "metadata": {
        "colab": {
          "base_uri": "https://localhost:8080/"
        },
        "id": "I84tylf_3939",
        "outputId": "ae86dfa2-d0a9-46c8-ffef-790687b7b7ff"
      },
      "source": [
        "user_item_matrix"
      ],
      "execution_count": null,
      "outputs": [
        {
          "output_type": "execute_result",
          "data": {
            "text/plain": [
              "array([[4, 3, 0, 0, 5, 0],\n",
              "       [5, 0, 4, 0, 4, 0],\n",
              "       [4, 0, 5, 3, 4, 0],\n",
              "       [0, 3, 0, 0, 0, 5],\n",
              "       [0, 4, 0, 0, 0, 4],\n",
              "       [0, 0, 2, 4, 0, 5]])"
            ]
          },
          "metadata": {
            "tags": []
          },
          "execution_count": 40
        }
      ]
    },
    {
      "cell_type": "code",
      "metadata": {
        "colab": {
          "base_uri": "https://localhost:8080/"
        },
        "id": "kcAn8GLz3sQJ",
        "outputId": "f1bcfc4b-be26-43bd-9187-c94b7140f404"
      },
      "source": [
        "user_item_matrix[:,1].shape"
      ],
      "execution_count": null,
      "outputs": [
        {
          "output_type": "execute_result",
          "data": {
            "text/plain": [
              "(6,)"
            ]
          },
          "metadata": {
            "tags": []
          },
          "execution_count": 41
        }
      ]
    },
    {
      "cell_type": "markdown",
      "metadata": {
        "id": "ox232f5tnMvp"
      },
      "source": [
        "https://blog.csdn.net/fycghy0803/article/details/79880452"
      ]
    },
    {
      "cell_type": "code",
      "metadata": {
        "id": "9BO_fsm53_Ck"
      },
      "source": [
        "\n",
        "# 定义各类常见的相似度\n",
        "\n",
        "# 定义余弦相似度\n",
        "def cosine_index(x,y):\n",
        "  return np.sum(x * y)/(math.sqrt(np.sum(x**2)) * math.sqrt(np.sum(y**2)))\n",
        "\n",
        "# 欧式距离相似度\n",
        "def euclidean_index(x,y):\n",
        "  return math.sqrt(np.sum((x-y)**2))\n",
        "\n",
        "# 杰卡德相似度\n",
        "def jaccard_index(x,y):\n",
        "  \n",
        "  pass\n",
        "\n",
        "\n"
      ],
      "execution_count": null,
      "outputs": []
    },
    {
      "cell_type": "code",
      "metadata": {
        "colab": {
          "base_uri": "https://localhost:8080/"
        },
        "id": "uEurC7iAoK73",
        "outputId": "df3f42c6-1d84-46b9-c03b-929aa8ae03bd"
      },
      "source": [
        "cosine_index(user_item_matrix[0],user_item_matrix[2]) #测试余弦相似度"
      ],
      "execution_count": null,
      "outputs": [
        {
          "output_type": "execute_result",
          "data": {
            "text/plain": [
              "0.6266795614405122"
            ]
          },
          "metadata": {
            "tags": []
          },
          "execution_count": 43
        }
      ]
    },
    {
      "cell_type": "code",
      "metadata": {
        "colab": {
          "base_uri": "https://localhost:8080/"
        },
        "id": "SP8ZMRpfqwQ4",
        "outputId": "a5cc44cd-94e7-465b-a755-563efb763ff0"
      },
      "source": [
        "euclidean_index(user_item_matrix[0],user_item_matrix[2]) # 测试欧式距离相似度"
      ],
      "execution_count": null,
      "outputs": [
        {
          "output_type": "execute_result",
          "data": {
            "text/plain": [
              "6.6332495807108"
            ]
          },
          "metadata": {
            "tags": []
          },
          "execution_count": 44
        }
      ]
    },
    {
      "cell_type": "code",
      "metadata": {
        "id": "VZ6Im1f2oeH_"
      },
      "source": [
        "# 计算相似度矩阵\n",
        "# 计算出的矩阵是一个对称矩阵\n",
        "similary_matrix = np.zeros(shape=(len(user_item_matrix[0]),len(user_item_matrix[0])))\n",
        "for i in range(len(user_item_matrix[0])):\n",
        "  for j in range(i,len(user_item_matrix[0])):\n",
        "    if(i!=j):\n",
        "      # 用欧式距离计算相似度\n",
        "      # val = euclidean_index(user_item_matrix[i],user_item_matrix[j])\n",
        "      # 用cosine计算相似度\n",
        "      val = cosine_index(user_item_matrix[:,i],user_item_matrix[:,j])\n",
        "      # 由于是对称矩阵，只计算其中一半就可以了，另外一半填充就行\n",
        "      similary_matrix[i][j] = val\n",
        "      similary_matrix[j][i] = val"
      ],
      "execution_count": null,
      "outputs": []
    },
    {
      "cell_type": "code",
      "metadata": {
        "colab": {
          "base_uri": "https://localhost:8080/"
        },
        "id": "KF9QK6GeuC7n",
        "outputId": "af85450d-d901-472f-f70f-3da71adf4856"
      },
      "source": [
        "similary_matrix # 获得相似矩阵 "
      ],
      "execution_count": null,
      "outputs": [
        {
          "output_type": "execute_result",
          "data": {
            "text/plain": [
              "array([[0.        , 0.27258651, 0.7897985 , 0.31788777, 0.98245614,\n",
              "        0.        ],\n",
              "       [0.27258651, 0.        , 0.        , 0.        , 0.34073314,\n",
              "        0.65441051],\n",
              "       [0.7897985 , 0.        , 0.        , 0.68572751, 0.71081865,\n",
              "        0.18349396],\n",
              "       [0.31788777, 0.        , 0.68572751, 0.        , 0.31788777,\n",
              "        0.49236596],\n",
              "       [0.98245614, 0.34073314, 0.71081865, 0.31788777, 0.        ,\n",
              "        0.        ],\n",
              "       [0.        , 0.65441051, 0.18349396, 0.49236596, 0.        ,\n",
              "        0.        ]])"
            ]
          },
          "metadata": {
            "tags": []
          },
          "execution_count": 46
        }
      ]
    },
    {
      "cell_type": "code",
      "metadata": {
        "colab": {
          "base_uri": "https://localhost:8080/"
        },
        "id": "a-Fe3rTeuQoa",
        "outputId": "d5ee525a-0f1a-4157-88fa-7cbe74442a03"
      },
      "source": [
        "# 然后可以根据你输入的用户，进行动态的计算当前与你相似度最高的用户是谁\n",
        "# 用户1 和 谁的相似度最高\n",
        "# 可以看出用户四的的相似度是最高的\n",
        "np.argmax(similary_matrix[0])"
      ],
      "execution_count": null,
      "outputs": [
        {
          "output_type": "execute_result",
          "data": {
            "text/plain": [
              "4"
            ]
          },
          "metadata": {
            "tags": []
          },
          "execution_count": 47
        }
      ]
    },
    {
      "cell_type": "code",
      "metadata": {
        "colab": {
          "base_uri": "https://localhost:8080/"
        },
        "id": "HKN4b1RJzt9-",
        "outputId": "2149b28c-60cd-4d30-beb3-500ffc9d46eb"
      },
      "source": [
        "np.argsort(-similary_matrix[0]) #从大到小排序相似度最高的物品"
      ],
      "execution_count": null,
      "outputs": [
        {
          "output_type": "execute_result",
          "data": {
            "text/plain": [
              "array([4, 2, 3, 1, 0, 5])"
            ]
          },
          "metadata": {
            "tags": []
          },
          "execution_count": 48
        }
      ]
    },
    {
      "cell_type": "code",
      "metadata": {
        "id": "a4gqOLRF1stp"
      },
      "source": [
        "# user_items 代表用户-物品矩阵 item_index 代表需要给哪个item推荐，K代表临近的物品 C表示最大的推荐的物品数量\n",
        "def recommend(user_item,item_index,K = 3,C = 10):\n",
        "  neibor_item = np.argsort(-similary_matrix[item_index])[0:K]\n",
        "  items = neibor_item\n",
        "  return items"
      ],
      "execution_count": null,
      "outputs": []
    },
    {
      "cell_type": "code",
      "metadata": {
        "id": "FwyjK5yb57rT"
      },
      "source": [
        "# 用户展示显示出效果\n",
        "def desp(users,movies,user_index,movies_list):\n",
        "  print(\"给用户（%s）的推荐电影分别是：\"%(movies[user_index]))\n",
        "  result = \"\"\n",
        "  for i in movies_list:\n",
        "    result = result + movies[i]\n",
        "    result = result + \" \"\n",
        "  print(result)"
      ],
      "execution_count": null,
      "outputs": []
    },
    {
      "cell_type": "code",
      "metadata": {
        "colab": {
          "base_uri": "https://localhost:8080/"
        },
        "id": "QfFAQXwmwi39",
        "outputId": "34780d01-63c4-47ab-dc09-15de5768decd"
      },
      "source": [
        "# 第一方案 用户点击了物品1，因此根据相似度把相关的物品推荐给用户\n",
        "recommend_list = recommend(user_item_matrix,1,C=10)\n",
        "print(recommend_list)\n",
        "desp(users,movies,3,recommend_list)"
      ],
      "execution_count": null,
      "outputs": [
        {
          "output_type": "stream",
          "text": [
            "[5 4 0]\n",
            "给用户（电影4）的推荐电影分别是：\n",
            "电影6 电影5 电影1 \n"
          ],
          "name": "stdout"
        }
      ]
    },
    {
      "cell_type": "code",
      "metadata": {
        "id": "mB155Tna7faN"
      },
      "source": [
        "# 第二方案，根据用户当前的喜好的物品 * 物品的相似度 进行物品的推荐\n",
        "# 比如我这里选择任意的一个物品\n",
        "# 对用户一的第一个物品进行推荐\n",
        "def recommend2(user_index,item_index):\n",
        "  print(user_item_matrix[user_index])\n",
        "  temp = user_item_matrix[user_index]\n",
        "  similarys = user_item_matrix[user_index][item_index] * similary_matrix[item_index]\n",
        "  for index,i in enumerate(temp):\n",
        "    if i == 0:\n",
        "      temp[index] = similarys[index]\n",
        "  print(temp)\n",
        "  return np.argsort(-temp)"
      ],
      "execution_count": null,
      "outputs": []
    },
    {
      "cell_type": "code",
      "metadata": {
        "id": "jaDtHGnv4xA4"
      },
      "source": [
        "# recommend2(0,0)"
      ],
      "execution_count": null,
      "outputs": []
    },
    {
      "cell_type": "code",
      "metadata": {
        "colab": {
          "base_uri": "https://localhost:8080/"
        },
        "id": "Jv1ZqgZh67Uh",
        "outputId": "df5da309-04d0-4a67-aba2-f418beb6fa70"
      },
      "source": [
        "desp(users,movies,0,recommend2(0,0))"
      ],
      "execution_count": null,
      "outputs": [
        {
          "output_type": "stream",
          "text": [
            "[4 3 0 0 5 0]\n",
            "[4 3 3 1 5 0]\n",
            "给用户（电影1）的推荐电影分别是：\n",
            "电影5 电影1 电影2 电影3 电影4 电影6 \n"
          ],
          "name": "stdout"
        }
      ]
    },
    {
      "cell_type": "code",
      "metadata": {
        "id": "HV2F7m6M7ifB"
      },
      "source": [
        ""
      ],
      "execution_count": null,
      "outputs": []
    }
  ]
}