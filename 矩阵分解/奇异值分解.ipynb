{
  "nbformat": 4,
  "nbformat_minor": 0,
  "metadata": {
    "colab": {
      "name": "奇异值分解.ipynb",
      "provenance": [],
      "collapsed_sections": []
    },
    "kernelspec": {
      "name": "python3",
      "display_name": "Python 3"
    }
  },
  "cells": [
    {
      "cell_type": "code",
      "metadata": {
        "id": "Y-2GgyhRG8fB"
      },
      "source": [
        "import numpy as np"
      ],
      "execution_count": 262,
      "outputs": []
    },
    {
      "cell_type": "markdown",
      "metadata": {
        "id": "-CFLFjG2LQX8"
      },
      "source": [
        "# 前言知识\n",
        "\n",
        "第一个问题?就是如何使用numpy计算特征值和特征向量\n",
        "\n",
        "```\n",
        "import numpy as np\n",
        "A = np.array([[3,-1],[-1,3]])\n",
        "print('打印A：\\n{}'.format(A))\n",
        "a, b = np.linalg.eig(A)\n",
        "print('打印特征值a：\\n{}'.format(a))\n",
        "print('打印特征向量b：\\n{}'.format(b))\n",
        "```"
      ]
    },
    {
      "cell_type": "code",
      "metadata": {
        "id": "5geIp-VtLjWR",
        "outputId": "72fba715-76bc-47a1-81cd-24c6bfbfae7b",
        "colab": {
          "base_uri": "https://localhost:8080/"
        }
      },
      "source": [
        "A = np.array([[3,-1],[-1,3]])\n",
        "print(A)\n",
        "a,b = np.linalg.eig(A)\n",
        "print('打印特征值a：\\n{}'.format(a))\n",
        "print('打印特征向量b：\\n{}'.format(b))"
      ],
      "execution_count": 263,
      "outputs": [
        {
          "output_type": "stream",
          "text": [
            "[[ 3 -1]\n",
            " [-1  3]]\n",
            "打印特征值a：\n",
            "[4. 2.]\n",
            "打印特征向量b：\n",
            "[[ 0.71  0.71]\n",
            " [-0.71  0.71]]\n"
          ],
          "name": "stdout"
        }
      ]
    },
    {
      "cell_type": "code",
      "metadata": {
        "id": "STRPU8PWRXJf",
        "outputId": "b56fed43-131e-4e24-c868-a41247343115",
        "colab": {
          "base_uri": "https://localhost:8080/"
        }
      },
      "source": [
        "A = np.array([[-1,1,0],[-4,3,0],[1,0,2]])\n",
        "print(A)\n",
        "a,b = np.linalg.eig(A)\n",
        "print('打印特征值a：\\n{}'.format(a))\n",
        "print('打印特征向量b：\\n{}'.format(b))"
      ],
      "execution_count": 264,
      "outputs": [
        {
          "output_type": "stream",
          "text": [
            "[[-1  1  0]\n",
            " [-4  3  0]\n",
            " [ 1  0  2]]\n",
            "打印特征值a：\n",
            "[2. 1. 1.]\n",
            "打印特征向量b：\n",
            "[[ 0.    0.41  0.41]\n",
            " [ 0.    0.82  0.82]\n",
            " [ 1.   -0.41 -0.41]]\n"
          ],
          "name": "stdout"
        }
      ]
    },
    {
      "cell_type": "markdown",
      "metadata": {
        "id": "6jTF4FurVrGJ"
      },
      "source": [
        "第二个问题? 如何根据特征值生成对角矩阵\n",
        "```\n",
        "np.diag([1,2,3])\n",
        "```"
      ]
    },
    {
      "cell_type": "code",
      "metadata": {
        "id": "nFW0IHiKVvi1",
        "outputId": "652215a8-fcf8-41c4-8653-278511a72231",
        "colab": {
          "base_uri": "https://localhost:8080/"
        }
      },
      "source": [
        "np.diag([1,2,3])"
      ],
      "execution_count": 265,
      "outputs": [
        {
          "output_type": "execute_result",
          "data": {
            "text/plain": [
              "array([[1, 0, 0],\n",
              "       [0, 2, 0],\n",
              "       [0, 0, 3]])"
            ]
          },
          "metadata": {
            "tags": []
          },
          "execution_count": 265
        }
      ]
    },
    {
      "cell_type": "markdown",
      "metadata": {
        "id": "eKn1_te7JXE-"
      },
      "source": [
        "# 矩阵分解\n",
        "\n",
        "> 首先先从矩阵分解开始.\n",
        "\n",
        "矩阵分解的前提要求必须是N*N的矩阵且需要是实对称矩阵"
      ]
    },
    {
      "cell_type": "code",
      "metadata": {
        "id": "5815XeKyHf6t",
        "outputId": "c57ff3f1-9708-4edd-c901-e42531af4e11",
        "colab": {
          "base_uri": "https://localhost:8080/"
        }
      },
      "source": [
        "A = np.array([\n",
        "     [1,2,3],\n",
        "     [2,2,3],\n",
        "     [3,3,3]\n",
        "])\n",
        "\n",
        "A"
      ],
      "execution_count": 266,
      "outputs": [
        {
          "output_type": "execute_result",
          "data": {
            "text/plain": [
              "array([[1, 2, 3],\n",
              "       [2, 2, 3],\n",
              "       [3, 3, 3]])"
            ]
          },
          "metadata": {
            "tags": []
          },
          "execution_count": 266
        }
      ]
    },
    {
      "cell_type": "code",
      "metadata": {
        "id": "G3U8Yz3ZW8Jb"
      },
      "source": [
        "w,v = np.linalg.eig(A) # w代表特征值 v代表特征向量"
      ],
      "execution_count": 267,
      "outputs": []
    },
    {
      "cell_type": "code",
      "metadata": {
        "id": "-Sf8C6rRXGK3",
        "outputId": "adaf9479-4d2a-459f-8346-86e1c3a84949",
        "colab": {
          "base_uri": "https://localhost:8080/"
        }
      },
      "source": [
        "print(w)\n",
        "print(v)"
      ],
      "execution_count": 268,
      "outputs": [
        {
          "output_type": "stream",
          "text": [
            "[ 7.52 -1.18 -0.34]\n",
            "[[-0.48 -0.77  0.43]\n",
            " [-0.55 -0.12 -0.83]\n",
            " [-0.68  0.63  0.36]]\n"
          ],
          "name": "stdout"
        }
      ]
    },
    {
      "cell_type": "markdown",
      "metadata": {
        "id": "6SnQjOfqXydY"
      },
      "source": [
        "在这里我们可以通过\n",
        "\n",
        "$$\n",
        "A=W \\Sigma W^{T}\n",
        "$$\n",
        "\n",
        "还原回原来的矩阵A,$W$代表特征向量,$\\Sigma$代表由特征值组成的对角矩阵"
      ]
    },
    {
      "cell_type": "code",
      "metadata": {
        "id": "3ob5yCziXYXV",
        "outputId": "93e20861-995b-4818-f5fb-f5d1a2ad3847",
        "colab": {
          "base_uri": "https://localhost:8080/"
        }
      },
      "source": [
        "v.dot(np.diag(w)).dot(v.T) #我们可以看到输出的结果和原先计算的A是一模一样的."
      ],
      "execution_count": 269,
      "outputs": [
        {
          "output_type": "execute_result",
          "data": {
            "text/plain": [
              "array([[1., 2., 3.],\n",
              "       [2., 2., 3.],\n",
              "       [3., 3., 3.]])"
            ]
          },
          "metadata": {
            "tags": []
          },
          "execution_count": 269
        }
      ]
    },
    {
      "cell_type": "markdown",
      "metadata": {
        "id": "zRpJlHptYaik"
      },
      "source": [
        "上面的矩阵分解使用N*N的矩阵,但是我们生活中遇到的大部分的情况下都不一定刚好是N*N的矩阵,所有下面我们进入此次练习的重点.如果使用奇异值分解来解决不是N*N的情况"
      ]
    },
    {
      "cell_type": "markdown",
      "metadata": {
        "id": "kGduHhl1Zqo6"
      },
      "source": [
        "# SVD的定义\n",
        "\n",
        "奇异值分解是特征分解在矩阵上的一个推广，也是是一种数据压缩的方法，可以把一个(任意形状的)矩阵分解为3个较小的矩阵，便于存储和计算。这个算法比较简单，但是应用非常广泛，在图像处理、推荐等领域作用很大。\n",
        "\n",
        "奇异值分解的目标就是:\n",
        "\n",
        "$$ A=U\\Sigma V^T  $$\n",
        "\n",
        "其中$U$是一个$m * m$的矩阵,$\\Sigma$是一个$m*n$的矩阵,主对角线上的每个元素都称为奇异值.$V$是$n*n$的矩阵.$U$和$V$都是酉矩阵,既满足$U^T U = I$和$V^T V = I$,$I$代表单位矩阵."
      ]
    },
    {
      "cell_type": "code",
      "metadata": {
        "id": "duRc_OYrXl75",
        "outputId": "276a8600-bcf0-43b3-8e33-415c37f4f062",
        "colab": {
          "base_uri": "https://localhost:8080/"
        }
      },
      "source": [
        "# 定义相关的矩阵,进行SVD分解\n",
        "A = np.array(\n",
        "    [\n",
        "     [0,1],\n",
        "     [1,1],\n",
        "     [1,0]\n",
        "    ]\n",
        ")\n",
        "A"
      ],
      "execution_count": 270,
      "outputs": [
        {
          "output_type": "execute_result",
          "data": {
            "text/plain": [
              "array([[0, 1],\n",
              "       [1, 1],\n",
              "       [1, 0]])"
            ]
          },
          "metadata": {
            "tags": []
          },
          "execution_count": 270
        }
      ]
    },
    {
      "cell_type": "markdown",
      "metadata": {
        "id": "oDQz-DtWwEoD"
      },
      "source": [
        "本质上就是求$AA^T$的特征向量和特征值"
      ]
    },
    {
      "cell_type": "code",
      "metadata": {
        "id": "rw50BySwcCeQ",
        "outputId": "f0100f18-d836-4e44-e057-ad64b7cf6da0",
        "colab": {
          "base_uri": "https://localhost:8080/"
        }
      },
      "source": [
        "# 先计算出U\n",
        "w1,U = np.linalg.eig(A.dot(A.T))\n",
        "print(w1)\n",
        "print(U.astype(np.float16))\n",
        "\n",
        "# 此时这里的v就是我们需要计算出的U"
      ],
      "execution_count": 285,
      "outputs": [
        {
          "output_type": "stream",
          "text": [
            "[ 3.00e+00  1.00e+00 -3.37e-17]\n",
            "[[-0.41  0.71  0.58]\n",
            " [-0.82  0.   -0.58]\n",
            " [-0.41 -0.71  0.58]]\n"
          ],
          "name": "stdout"
        }
      ]
    },
    {
      "cell_type": "markdown",
      "metadata": {
        "id": "2KoGSIxSwMGM"
      },
      "source": [
        "本质上就是求$A^T A$的特征向量和特征值"
      ]
    },
    {
      "cell_type": "code",
      "metadata": {
        "id": "iJW5b9EgcNJ0",
        "outputId": "c5d5504b-670e-4ba0-9bb4-a0d0a024789b",
        "colab": {
          "base_uri": "https://localhost:8080/"
        }
      },
      "source": [
        "# 再计算出V\n",
        "w2,V = np.linalg.eig(A.T.dot(A))\n",
        "print(w2)\n",
        "print(V)\n",
        "\n",
        "# 此时这里的v就是我们需要计算出的U"
      ],
      "execution_count": 280,
      "outputs": [
        {
          "output_type": "stream",
          "text": [
            "[3. 1.]\n",
            "[[ 0.71 -0.71]\n",
            " [ 0.71  0.71]]\n"
          ],
          "name": "stdout"
        }
      ]
    },
    {
      "cell_type": "code",
      "metadata": {
        "id": "3Po9JJkfehug",
        "outputId": "42fbced8-8543-4f22-abf2-cf0f78a78de5",
        "colab": {
          "base_uri": "https://localhost:8080/"
        }
      },
      "source": [
        "# pad,表示填充 上 下 左 右\n",
        "np.pad(np.diag(w2),((0,1),(0,0)),'constant')\n"
      ],
      "execution_count": 273,
      "outputs": [
        {
          "output_type": "execute_result",
          "data": {
            "text/plain": [
              "array([[3., 0.],\n",
              "       [0., 1.],\n",
              "       [0., 0.]])"
            ]
          },
          "metadata": {
            "tags": []
          },
          "execution_count": 273
        }
      ]
    },
    {
      "cell_type": "markdown",
      "metadata": {
        "id": "rEcsnR3WwTKL"
      },
      "source": [
        "可知:\n",
        "$$\n",
        "A=U \\Sigma V^{T} \\Rightarrow A^{T}=V \\Sigma^{T} U^{T} \\Rightarrow A^{T} A=V \\Sigma^{T} U^{T} U \\Sigma V^{T}=V \\Sigma^{2} V^{T}\n",
        "$$\n",
        "\n",
        "我们可以看出特征值矩阵等于奇异值的平方,也就是满足如下的关系:\n",
        "\n",
        "$$\n",
        "\\sigma_{i}=\\sqrt{\\lambda_{i}}\n",
        "$$"
      ]
    },
    {
      "cell_type": "code",
      "metadata": {
        "id": "Vn51sTiFcpNK",
        "outputId": "3178415e-53bb-4401-e586-83a85d42de76",
        "colab": {
          "base_uri": "https://localhost:8080/"
        }
      },
      "source": [
        "Sigma = np.sqrt(np.pad(np.diag(w2),((0,1),(0,0)),'constant'))\n",
        "\n",
        "Sigma"
      ],
      "execution_count": 274,
      "outputs": [
        {
          "output_type": "execute_result",
          "data": {
            "text/plain": [
              "array([[1.73, 0.  ],\n",
              "       [0.  , 1.  ],\n",
              "       [0.  , 0.  ]])"
            ]
          },
          "metadata": {
            "tags": []
          },
          "execution_count": 274
        }
      ]
    },
    {
      "cell_type": "code",
      "metadata": {
        "id": "xxrd5pSkc8nz",
        "outputId": "195c51b3-bea3-4cac-e473-1015ad58357d",
        "colab": {
          "base_uri": "https://localhost:8080/"
        }
      },
      "source": [
        "print(U.shape,Sigma.shape,V.shape)"
      ],
      "execution_count": 275,
      "outputs": [
        {
          "output_type": "stream",
          "text": [
            "(3, 3) (3, 2) (2, 2)\n"
          ],
          "name": "stdout"
        }
      ]
    },
    {
      "cell_type": "code",
      "metadata": {
        "id": "1vE_Ho7gp0jm",
        "outputId": "4f46d52c-8106-4952-ca24-e0699de3091c",
        "colab": {
          "base_uri": "https://localhost:8080/"
        }
      },
      "source": [
        "print(U.astype(np.float16))\n",
        "print(Sigma)\n",
        "print(V.T)"
      ],
      "execution_count": 282,
      "outputs": [
        {
          "output_type": "stream",
          "text": [
            "[[-0.41  0.71  0.58]\n",
            " [-0.82  0.   -0.58]\n",
            " [-0.41 -0.71  0.58]]\n",
            "[[1.73 0.  ]\n",
            " [0.   1.  ]\n",
            " [0.   0.  ]]\n",
            "[[ 0.71  0.71]\n",
            " [-0.71  0.71]]\n"
          ],
          "name": "stdout"
        }
      ]
    },
    {
      "cell_type": "code",
      "metadata": {
        "id": "w9TjMvqscy7Q",
        "outputId": "25c0c7c9-6ffd-447d-e439-06ea4406b79e",
        "colab": {
          "base_uri": "https://localhost:8080/"
        }
      },
      "source": [
        "U.dot(Sigma).dot(V.T)"
      ],
      "execution_count": 277,
      "outputs": [
        {
          "output_type": "execute_result",
          "data": {
            "text/plain": [
              "array([[-1.00e+00,  3.32e-16],\n",
              "       [-1.00e+00, -1.00e+00],\n",
              "       [-1.21e-16, -1.00e+00]])"
            ]
          },
          "metadata": {
            "tags": []
          },
          "execution_count": 277
        }
      ]
    },
    {
      "cell_type": "markdown",
      "metadata": {
        "id": "HLKgBbjAqaiI"
      },
      "source": [
        "正确结果:\n",
        "\n",
        "```\n",
        "array([[0, 1],\n",
        "       [1, 1],\n",
        "       [1, 0]])\n",
        "```"
      ]
    },
    {
      "cell_type": "markdown",
      "metadata": {
        "id": "gUZMxTESvNPk"
      },
      "source": [
        "[错误参考来源](https://blog.csdn.net/weixin_43383558/article/details/83145867)\n",
        "\n",
        "这里的原因很清楚了.为什么会出现这个问题,原因在于计算过程中的U的第一列在Numpy中计算输出了负数.本来在特征向量中输出负数不会影响结果,但是在SVD当中会影响结果.\n",
        "\n",
        "\n",
        "\n",
        "当SVD结果的矩阵出现以下这两种情况时：\n",
        "1、需要整个矩阵添加相反的正负号才等于原矩阵；\n",
        "2、SVD求出的矩阵中某一列（多列也一样）需要添加相反的正负号才等于原矩阵；\n",
        "以上两种情况都认为：你求解SVD成功，求的这个SVD和原矩阵一致。\n",
        "\n",
        "解SVD常遇见的疑问\n",
        "1、需要添加正负符号问题\n",
        "在例题2中出现了最后的矩阵需要再绝对值才等于原矩阵，或者出现某一列需要添加正负正反的符号才等于原矩阵，\n",
        "为什么会这样？\n",
        "答：原因是你所用的计算软件对“它”动的毛手毛脚。\n",
        "我非常肯定这一点。在查阅网上大量相似问题又最后无解，自己在matlab中发现：如果你只是一步一步求解 \n",
        "AA^{T} 或者 A^{T}A ，最后将结果分别依照公式拼凑上去，那么问题就在你求解 AA^{T} 和 A^{T}A 的特征向量时，\n",
        "计算软件有时会给某一列添加和你预想结果完全每一个都相反的符号。\n",
        "所以在最后得出的计算结果中，将会出现某一列或者整个矩阵出现需要添加正负号才等于原矩阵的原因。\n",
        "但是，这并不干扰你求解SVD的正确性。它给你添加的相反符号也没有错。\n",
        "因为它们本质是“特征向量”，本质是线性或非线性方程的基础解析，只要它是相应的线性方程组的基础解析就没问题。\n",
        "同一特征值的特征向量的非零线性组合，仍然是这个特征值的特征向量。比如，若 x 是方阵A某个特征值对应的特征向量，\n",
        "则kx 也是A对应于该特征值的特征向量。（k取正数或者负数，不取0）在之前的章节里，\n",
        "很清楚得说明白了k是基础解析的k倍，基础解析的k倍，无论k几倍都是某个特征值的特征向量，\n",
        "它们都存在在一条轴上，一条由同一个方向上各个长短不同的特征向量组成的“旋转轴”。\n",
        "所以对某一列向量，或者所有的列向量添加相反的符号（乘于-1），得到的SVD分解结果都是正确的。\n",
        "但若非整个列向量取相反符号，而是仅仅存在某一个分量有符号问题，那就是你求解中出现了问题。\n",
        "但是！这种情况却有一个例外，请参考下一点 2\n",
        "\n",
        "2、“求错”的地方刚好撞见“转置”\n",
        "比如，在麻省理工大学Gilbert Strang教授讲的《线性代数》的奇异值分解那一课，他出现错误的问题在于，\n",
        "“求错”的地方刚好撞见“转置”，V矩阵正确的符号应该是：\n",
        "正 负\n",
        "正 正\n",
        "他求成了：\n",
        "正 正\n",
        "正 负\n",
        "本来这样也是没错的，因为在1中，我说特征向量kx和x一样，在上面两个矩阵中，下面的列2只不过乘于-1就\n",
        "等于上面的列2，本来是正确的，但是问题就在于，V矩阵最后在SVD公式里需要转置，而转置的位置刚好就是将E12变到E21，\n",
        "将E21变到E12，所以原本在属于那一列中没有错误的计算，转置后就错误了。解决的方法并不是手解，\n",
        "我想没人蠢到用手解解一个\"万阶矩阵\"吧？有的话请告诉我。。。解决的方法在下一段将出现。\n",
        "（下一段为：计算软件求解SVD的要注意的问题）\n",
        "\n",
        "3、其它常见出错的问题\n",
        "有可能是V没有进行转置：反正我是看到Gilbert Strang教授那一课中，其实不仅没有发现“错误点”在转置位置，而且，\n",
        "他还忘了对V进行转置。（所幸当时那个矩阵转不转置两者都一样，所以他忘了也没什么。解错，这不毫不奇怪，\n",
        "但可笑是，国内的相关文章上都依照他错误的方式去解，不仅没有解答真正的本质在于转置位置，\n",
        "就连V需要转置这么基础的也没有一个人记得。我看过很多文章，大家都生搬硬抄直接将黑板的写上去，\n",
        "完全不怀疑他有没有可能写错了。真是读死书。也怪不得国外有Wolframalpha、Mathpad、Mathematics等等软件，\n",
        "国内却只能在每个软件的评论区喊着“有没有中文版？”）\n",
        "\n",
        "有可能是U的符号出现错误\n",
        "在多次实验当中，我发现如果最后的数字出现了错误，那么很可能是因为左乘矩阵出现了问题，\n",
        "在放到这个SVD的例子当中，SVD的左乘矩阵就是U。\n",
        "\n",
        "也就是可以这么总结：\n",
        "如果只是列向量的正负出现问题，要么你是在V上出心大意忘了添加某个符号，要么就是你刚好碰上\"错误点\"和\"转置位置\"；"
      ]
    },
    {
      "cell_type": "code",
      "metadata": {
        "id": "RiBzeBuvc35n",
        "outputId": "b445322e-c801-4494-b6c1-0935c143c7ba",
        "colab": {
          "base_uri": "https://localhost:8080/"
        }
      },
      "source": [
        "U.dot(Sigma.dot(V.T)).astype(np.float16)"
      ],
      "execution_count": 286,
      "outputs": [
        {
          "output_type": "execute_result",
          "data": {
            "text/plain": [
              "array([[-1.,  0.],\n",
              "       [-1., -1.],\n",
              "       [-0., -1.]], dtype=float16)"
            ]
          },
          "metadata": {
            "tags": []
          },
          "execution_count": 286
        }
      ]
    },
    {
      "cell_type": "code",
      "metadata": {
        "id": "yyi563gvqSFi",
        "outputId": "b70ad2f5-c65b-4c10-ae5c-63982bd79a2b",
        "colab": {
          "base_uri": "https://localhost:8080/"
        }
      },
      "source": [
        "np.array([[0.41 ,0.71 ,0.58],\n",
        " [0.82 ,0.  ,-0.58],\n",
        " [0.41,-0.71 ,0.58]]).dot(Sigma.dot(V.T)).astype(np.float16)"
      ],
      "execution_count": 289,
      "outputs": [
        {
          "output_type": "execute_result",
          "data": {
            "text/plain": [
              "array([[9.96e-05, 1.00e+00],\n",
              "       [1.00e+00, 1.00e+00],\n",
              "       [1.00e+00, 9.96e-05]], dtype=float16)"
            ]
          },
          "metadata": {
            "tags": []
          },
          "execution_count": 289
        }
      ]
    },
    {
      "cell_type": "markdown",
      "metadata": {
        "id": "Tr1OyMfMv2xQ"
      },
      "source": [
        "最后千万不要用Python包一个一个去求ATA以及AAT的特征值、特征向量，你会发现你求得的$U \\Sigma V^T$与原矩阵不相等！！！\n",
        "Python一定要用np.linalg.svd(A)求解SVD，千万不要单独求解，切记！"
      ]
    },
    {
      "cell_type": "code",
      "metadata": {
        "id": "ZOV2h-hLuL8Q"
      },
      "source": [
        "x,y,z = np.linalg.svd(A)"
      ],
      "execution_count": 292,
      "outputs": []
    },
    {
      "cell_type": "code",
      "metadata": {
        "id": "hvpAgrpQxGyx",
        "outputId": "5a93356d-fd56-4e0e-b777-d29dfa03e71e",
        "colab": {
          "base_uri": "https://localhost:8080/"
        }
      },
      "source": [
        "print(x.shape,y.shape,z.shape)"
      ],
      "execution_count": 295,
      "outputs": [
        {
          "output_type": "stream",
          "text": [
            "(3, 3) (2,) (2, 2)\n"
          ],
          "name": "stdout"
        }
      ]
    },
    {
      "cell_type": "code",
      "metadata": {
        "id": "SqyTMavIwyhB",
        "outputId": "3128464d-6042-468a-c2d2-0c8d77febf0c",
        "colab": {
          "base_uri": "https://localhost:8080/"
        }
      },
      "source": [
        "# 测试numpy中的svd结果\n",
        "x.dot(np.pad(np.diag(y),((0,1),(0,0)),'constant').dot(z)).astype(np.float16)"
      ],
      "execution_count": 296,
      "outputs": [
        {
          "output_type": "execute_result",
          "data": {
            "text/plain": [
              "array([[ 0.,  1.],\n",
              "       [ 1.,  1.],\n",
              "       [ 1., -0.]], dtype=float16)"
            ]
          },
          "metadata": {
            "tags": []
          },
          "execution_count": 296
        }
      ]
    },
    {
      "cell_type": "code",
      "metadata": {
        "id": "uTJblnNaxAGx"
      },
      "source": [
        ""
      ],
      "execution_count": null,
      "outputs": []
    }
  ]
}